{
 "cells": [
  {
   "cell_type": "markdown",
   "metadata": {},
   "source": [
    "# Malaria Detection"
   ]
  },
  {
   "cell_type": "code",
   "execution_count": 2,
   "metadata": {},
   "outputs": [
    {
     "name": "stdout",
     "output_type": "stream",
     "text": [
      "pip 19.1.1 from C:\\Users\\Sunitha\\Anaconda3\\lib\\site-packages\\pip (python 3.7)\n",
      "\n",
      "Note: you may need to restart the kernel to use updated packages.\n"
     ]
    }
   ],
   "source": [
    "pip --version"
   ]
  },
  {
   "cell_type": "code",
   "execution_count": 5,
   "metadata": {},
   "outputs": [
    {
     "name": "stdout",
     "output_type": "stream",
     "text": [
      "Collecting tensorflow\n",
      "  Using cached https://files.pythonhosted.org/packages/55/d1/a3631a36859ee324e1767fa7554fdf7af17965571d8537b20b311b76bcfe/tensorflow-2.11.0-cp37-cp37m-win_amd64.whl\n",
      "Collecting tensorflow-intel==2.11.0; platform_system == \"Windows\" (from tensorflow)\n",
      "  Using cached https://files.pythonhosted.org/packages/f7/8c/18288ac12dc0e1997c73f1b86dbd6f7fa3674ae5341769387e1f13b07c9e/tensorflow_intel-2.11.0-cp37-cp37m-win_amd64.whl\n",
      "Requirement already satisfied, skipping upgrade: h5py>=2.9.0 in c:\\users\\sunitha\\anacondaprojects\\lib\\site-packages (from tensorflow-intel==2.11.0; platform_system == \"Windows\"->tensorflow) (2.9.0)\n",
      "Collecting termcolor>=1.1.0 (from tensorflow-intel==2.11.0; platform_system == \"Windows\"->tensorflow)\n",
      "  Using cached https://files.pythonhosted.org/packages/67/e1/434566ffce04448192369c1a282931cf4ae593e91907558eaecd2e9f2801/termcolor-2.3.0-py3-none-any.whl\n",
      "Collecting tensorflow-estimator<2.12,>=2.11.0 (from tensorflow-intel==2.11.0; platform_system == \"Windows\"->tensorflow)\n",
      "  Using cached https://files.pythonhosted.org/packages/bb/e2/8bf618c7c30a525054230ee6d40b036d3e5abc2c4ff67cf7c7420a519204/tensorflow_estimator-2.11.0-py2.py3-none-any.whl\n",
      "Requirement already satisfied, skipping upgrade: wrapt>=1.11.0 in c:\\users\\sunitha\\anacondaprojects\\lib\\site-packages (from tensorflow-intel==2.11.0; platform_system == \"Windows\"->tensorflow) (1.11.2)\n",
      "Requirement already satisfied, skipping upgrade: setuptools in c:\\users\\sunitha\\anacondaprojects\\lib\\site-packages (from tensorflow-intel==2.11.0; platform_system == \"Windows\"->tensorflow) (41.0.1)\n",
      "Collecting absl-py>=1.0.0 (from tensorflow-intel==2.11.0; platform_system == \"Windows\"->tensorflow)\n",
      "  Using cached https://files.pythonhosted.org/packages/01/e4/dc0a1dcc4e74e08d7abedab278c795eef54a224363bb18f5692f416d834f/absl_py-2.0.0-py3-none-any.whl\n",
      "Requirement already satisfied, skipping upgrade: six>=1.12.0 in c:\\users\\sunitha\\anacondaprojects\\lib\\site-packages (from tensorflow-intel==2.11.0; platform_system == \"Windows\"->tensorflow) (1.12.0)\n",
      "Requirement already satisfied, skipping upgrade: flatbuffers>=2.0 in c:\\users\\sunitha\\anacondaprojects\\lib\\site-packages (from tensorflow-intel==2.11.0; platform_system == \"Windows\"->tensorflow) (23.5.26)\n",
      "Collecting libclang>=13.0.0 (from tensorflow-intel==2.11.0; platform_system == \"Windows\"->tensorflow)\n",
      "  Using cached https://files.pythonhosted.org/packages/02/8c/dc970bc00867fe290e8c8a7befa1635af716a9ebdfe3fb9dce0ca4b522ce/libclang-16.0.6-py2.py3-none-win_amd64.whl\n",
      "Requirement already satisfied, skipping upgrade: grpcio<2.0,>=1.24.3 in c:\\users\\sunitha\\anacondaprojects\\lib\\site-packages (from tensorflow-intel==2.11.0; platform_system == \"Windows\"->tensorflow) (1.59.3)\n",
      "Collecting tensorboard<2.12,>=2.11 (from tensorflow-intel==2.11.0; platform_system == \"Windows\"->tensorflow)\n",
      "  Using cached https://files.pythonhosted.org/packages/6f/77/e624b4916531721e674aa105151ffa5223fb224d3ca4bd5c10574664f944/tensorboard-2.11.2-py3-none-any.whl\n",
      "Collecting astunparse>=1.6.0 (from tensorflow-intel==2.11.0; platform_system == \"Windows\"->tensorflow)\n",
      "  Using cached https://files.pythonhosted.org/packages/2b/03/13dde6512ad7b4557eb792fbcf0c653af6076b81e5941d36ec61f7ce6028/astunparse-1.6.3-py2.py3-none-any.whl\n",
      "Requirement already satisfied, skipping upgrade: typing-extensions>=3.6.6 in c:\\users\\sunitha\\anacondaprojects\\lib\\site-packages (from tensorflow-intel==2.11.0; platform_system == \"Windows\"->tensorflow) (4.7.1)\n",
      "Requirement already satisfied, skipping upgrade: packaging in c:\\users\\sunitha\\anacondaprojects\\lib\\site-packages (from tensorflow-intel==2.11.0; platform_system == \"Windows\"->tensorflow) (19.0)\n",
      "Collecting google-pasta>=0.1.1 (from tensorflow-intel==2.11.0; platform_system == \"Windows\"->tensorflow)\n",
      "  Using cached https://files.pythonhosted.org/packages/a3/de/c648ef6835192e6e2cc03f40b19eeda4382c49b5bafb43d88b931c4c74ac/google_pasta-0.2.0-py3-none-any.whl\n",
      "Requirement already satisfied, skipping upgrade: protobuf<3.20,>=3.9.2 in c:\\users\\sunitha\\anacondaprojects\\lib\\site-packages (from tensorflow-intel==2.11.0; platform_system == \"Windows\"->tensorflow) (3.19.6)\n",
      "Collecting gast<=0.4.0,>=0.2.1 (from tensorflow-intel==2.11.0; platform_system == \"Windows\"->tensorflow)\n",
      "  Using cached https://files.pythonhosted.org/packages/b6/48/583c032b79ae5b3daa02225a675aeb673e58d2cb698e78510feceb11958c/gast-0.4.0-py3-none-any.whl\n",
      "Requirement already satisfied, skipping upgrade: numpy>=1.20 in c:\\users\\sunitha\\anacondaprojects\\lib\\site-packages (from tensorflow-intel==2.11.0; platform_system == \"Windows\"->tensorflow) (1.21.6)\n",
      "Collecting opt-einsum>=2.3.2 (from tensorflow-intel==2.11.0; platform_system == \"Windows\"->tensorflow)\n",
      "  Using cached https://files.pythonhosted.org/packages/bc/19/404708a7e54ad2798907210462fd950c3442ea51acc8790f3da48d2bee8b/opt_einsum-3.3.0-py3-none-any.whl\n",
      "Requirement already satisfied, skipping upgrade: tensorflow-io-gcs-filesystem>=0.23.1; platform_machine != \"arm64\" or platform_system != \"Darwin\" in c:\\users\\sunitha\\anacondaprojects\\lib\\site-packages (from tensorflow-intel==2.11.0; platform_system == \"Windows\"->tensorflow) (0.31.0)\n",
      "Requirement already satisfied, skipping upgrade: keras<2.12,>=2.11.0 in c:\\users\\sunitha\\anacondaprojects\\lib\\site-packages (from tensorflow-intel==2.11.0; platform_system == \"Windows\"->tensorflow) (2.11.0)\n",
      "Requirement already satisfied, skipping upgrade: wheel>=0.26 in c:\\users\\sunitha\\anacondaprojects\\lib\\site-packages (from tensorboard<2.12,>=2.11->tensorflow-intel==2.11.0; platform_system == \"Windows\"->tensorflow) (0.33.4)\n",
      "Collecting google-auth-oauthlib<0.5,>=0.4.1 (from tensorboard<2.12,>=2.11->tensorflow-intel==2.11.0; platform_system == \"Windows\"->tensorflow)\n",
      "  Using cached https://files.pythonhosted.org/packages/b1/0e/0636cc1448a7abc444fb1b3a63655e294e0d2d49092dc3de05241be6d43c/google_auth_oauthlib-0.4.6-py2.py3-none-any.whl\n",
      "Requirement already satisfied, skipping upgrade: requests<3,>=2.21.0 in c:\\users\\sunitha\\anacondaprojects\\lib\\site-packages (from tensorboard<2.12,>=2.11->tensorflow-intel==2.11.0; platform_system == \"Windows\"->tensorflow) (2.22.0)\n",
      "Requirement already satisfied, skipping upgrade: tensorboard-plugin-wit>=1.6.0 in c:\\users\\sunitha\\anacondaprojects\\lib\\site-packages (from tensorboard<2.12,>=2.11->tensorflow-intel==2.11.0; platform_system == \"Windows\"->tensorflow) (1.8.1)\n",
      "Requirement already satisfied, skipping upgrade: tensorboard-data-server<0.7.0,>=0.6.0 in c:\\users\\sunitha\\anacondaprojects\\lib\\site-packages (from tensorboard<2.12,>=2.11->tensorflow-intel==2.11.0; platform_system == \"Windows\"->tensorflow) (0.6.1)\n",
      "Collecting werkzeug>=1.0.1 (from tensorboard<2.12,>=2.11->tensorflow-intel==2.11.0; platform_system == \"Windows\"->tensorflow)\n",
      "  Using cached https://files.pythonhosted.org/packages/f6/f8/9da63c1617ae2a1dec2fbf6412f3a0cfe9d4ce029eccbda6e1e4258ca45f/Werkzeug-2.2.3-py3-none-any.whl\n",
      "Collecting markdown>=2.6.8 (from tensorboard<2.12,>=2.11->tensorflow-intel==2.11.0; platform_system == \"Windows\"->tensorflow)\n",
      "  Using cached https://files.pythonhosted.org/packages/1a/b5/228c1cdcfe138f1a8e01ab1b54284c8b83735476cb22b6ba251656ed13ad/Markdown-3.4.4-py3-none-any.whl\n",
      "Collecting google-auth<3,>=1.6.3 (from tensorboard<2.12,>=2.11->tensorflow-intel==2.11.0; platform_system == \"Windows\"->tensorflow)\n",
      "  Using cached https://files.pythonhosted.org/packages/86/a7/75911c13a242735d5aeaca6a272da380335ff4ba5f26d6b2ae20ff682d13/google_auth-2.23.4-py2.py3-none-any.whl\n",
      "Requirement already satisfied, skipping upgrade: pyparsing>=2.0.2 in c:\\users\\sunitha\\anacondaprojects\\lib\\site-packages (from packaging->tensorflow-intel==2.11.0; platform_system == \"Windows\"->tensorflow) (2.4.0)\n",
      "Collecting requests-oauthlib>=0.7.0 (from google-auth-oauthlib<0.5,>=0.4.1->tensorboard<2.12,>=2.11->tensorflow-intel==2.11.0; platform_system == \"Windows\"->tensorflow)\n",
      "  Using cached https://files.pythonhosted.org/packages/6f/bb/5deac77a9af870143c684ab46a7934038a53eb4aa975bc0687ed6ca2c610/requests_oauthlib-1.3.1-py2.py3-none-any.whl\n",
      "Requirement already satisfied, skipping upgrade: certifi>=2017.4.17 in c:\\users\\sunitha\\anacondaprojects\\lib\\site-packages (from requests<3,>=2.21.0->tensorboard<2.12,>=2.11->tensorflow-intel==2.11.0; platform_system == \"Windows\"->tensorflow) (2019.6.16)\n",
      "Requirement already satisfied, skipping upgrade: chardet<3.1.0,>=3.0.2 in c:\\users\\sunitha\\anacondaprojects\\lib\\site-packages (from requests<3,>=2.21.0->tensorboard<2.12,>=2.11->tensorflow-intel==2.11.0; platform_system == \"Windows\"->tensorflow) (3.0.4)\n",
      "Requirement already satisfied, skipping upgrade: idna<2.9,>=2.5 in c:\\users\\sunitha\\anacondaprojects\\lib\\site-packages (from requests<3,>=2.21.0->tensorboard<2.12,>=2.11->tensorflow-intel==2.11.0; platform_system == \"Windows\"->tensorflow) (2.8)\n",
      "Requirement already satisfied, skipping upgrade: urllib3!=1.25.0,!=1.25.1,<1.26,>=1.21.1 in c:\\users\\sunitha\\anacondaprojects\\lib\\site-packages (from requests<3,>=2.21.0->tensorboard<2.12,>=2.11->tensorflow-intel==2.11.0; platform_system == \"Windows\"->tensorflow) (1.24.2)\n",
      "Requirement already satisfied, skipping upgrade: MarkupSafe>=2.1.1 in c:\\users\\sunitha\\anacondaprojects\\lib\\site-packages (from werkzeug>=1.0.1->tensorboard<2.12,>=2.11->tensorflow-intel==2.11.0; platform_system == \"Windows\"->tensorflow) (2.1.3)\n",
      "Collecting importlib-metadata>=4.4; python_version < \"3.10\" (from markdown>=2.6.8->tensorboard<2.12,>=2.11->tensorflow-intel==2.11.0; platform_system == \"Windows\"->tensorflow)\n",
      "  Using cached https://files.pythonhosted.org/packages/ff/94/64287b38c7de4c90683630338cf28f129decbba0a44f0c6db35a873c73c4/importlib_metadata-6.7.0-py3-none-any.whl\n",
      "Collecting rsa<5,>=3.1.4 (from google-auth<3,>=1.6.3->tensorboard<2.12,>=2.11->tensorflow-intel==2.11.0; platform_system == \"Windows\"->tensorflow)\n",
      "  Using cached https://files.pythonhosted.org/packages/49/97/fa78e3d2f65c02c8e1268b9aba606569fe97f6c8f7c2d74394553347c145/rsa-4.9-py3-none-any.whl\n",
      "Collecting pyasn1-modules>=0.2.1 (from google-auth<3,>=1.6.3->tensorboard<2.12,>=2.11->tensorflow-intel==2.11.0; platform_system == \"Windows\"->tensorflow)\n",
      "  Using cached https://files.pythonhosted.org/packages/cd/8e/bea464350e1b8c6ed0da3a312659cb648804a08af6cacc6435867f74f8bd/pyasn1_modules-0.3.0-py2.py3-none-any.whl\n",
      "Collecting cachetools<6.0,>=2.0.0 (from google-auth<3,>=1.6.3->tensorboard<2.12,>=2.11->tensorflow-intel==2.11.0; platform_system == \"Windows\"->tensorflow)\n",
      "  Using cached https://files.pythonhosted.org/packages/a2/91/2d843adb9fbd911e0da45fbf6f18ca89d07a087c3daa23e955584f90ebf4/cachetools-5.3.2-py3-none-any.whl\n",
      "Collecting oauthlib>=3.0.0 (from requests-oauthlib>=0.7.0->google-auth-oauthlib<0.5,>=0.4.1->tensorboard<2.12,>=2.11->tensorflow-intel==2.11.0; platform_system == \"Windows\"->tensorflow)\n",
      "  Using cached https://files.pythonhosted.org/packages/7e/80/cab10959dc1faead58dc8384a781dfbf93cb4d33d50988f7a69f1b7c9bbe/oauthlib-3.2.2-py3-none-any.whl\n",
      "Requirement already satisfied, skipping upgrade: zipp>=0.5 in c:\\users\\sunitha\\anacondaprojects\\lib\\site-packages (from importlib-metadata>=4.4; python_version < \"3.10\"->markdown>=2.6.8->tensorboard<2.12,>=2.11->tensorflow-intel==2.11.0; platform_system == \"Windows\"->tensorflow) (0.5.1)\n",
      "Collecting pyasn1>=0.1.3 (from rsa<5,>=3.1.4->google-auth<3,>=1.6.3->tensorboard<2.12,>=2.11->tensorflow-intel==2.11.0; platform_system == \"Windows\"->tensorflow)\n",
      "  Using cached https://files.pythonhosted.org/packages/d1/75/4686d2872bf2fc0b37917cbc8bbf0dd3a5cdb0990799be1b9cbf1e1eb733/pyasn1-0.5.1-py2.py3-none-any.whl\n",
      "Installing collected packages: termcolor, tensorflow-estimator, absl-py, libclang, pyasn1, rsa, pyasn1-modules, cachetools, google-auth, oauthlib, requests-oauthlib, google-auth-oauthlib, werkzeug, importlib-metadata, markdown, tensorboard, astunparse, google-pasta, gast, opt-einsum, tensorflow-intel, tensorflow\n",
      "Successfully installed absl-py-2.0.0 astunparse-1.6.3 cachetools-5.3.2 gast-0.4.0 google-auth-2.23.4 google-auth-oauthlib-0.4.6 google-pasta-0.2.0 importlib-metadata-6.7.0 libclang-16.0.6 markdown-3.4.4 oauthlib-3.2.2 opt-einsum-3.3.0 pyasn1-0.5.1 pyasn1-modules-0.3.0 requests-oauthlib-1.3.1 rsa-4.9 tensorboard-2.11.2 tensorflow-2.11.0 tensorflow-estimator-2.11.0 tensorflow-intel-2.11.0 termcolor-2.3.0 werkzeug-2.2.3\n",
      "Note: you may need to restart the kernel to use updated packages.\n"
     ]
    },
    {
     "name": "stderr",
     "output_type": "stream",
     "text": [
      "  WARNING: The scripts pyrsa-decrypt.exe, pyrsa-encrypt.exe, pyrsa-keygen.exe, pyrsa-priv2pub.exe, pyrsa-sign.exe and pyrsa-verify.exe are installed in 'C:\\Users\\Sunitha\\AppData\\Roaming\\Python\\Python37\\Scripts' which is not on PATH.\n",
      "  Consider adding this directory to PATH or, if you prefer to suppress this warning, use --no-warn-script-location.\n",
      "  WARNING: The script google-oauthlib-tool.exe is installed in 'C:\\Users\\Sunitha\\AppData\\Roaming\\Python\\Python37\\Scripts' which is not on PATH.\n",
      "  Consider adding this directory to PATH or, if you prefer to suppress this warning, use --no-warn-script-location.\n",
      "  WARNING: The script markdown_py.exe is installed in 'C:\\Users\\Sunitha\\AppData\\Roaming\\Python\\Python37\\Scripts' which is not on PATH.\n",
      "  Consider adding this directory to PATH or, if you prefer to suppress this warning, use --no-warn-script-location.\n",
      "  WARNING: The script tensorboard.exe is installed in 'C:\\Users\\Sunitha\\AppData\\Roaming\\Python\\Python37\\Scripts' which is not on PATH.\n",
      "  Consider adding this directory to PATH or, if you prefer to suppress this warning, use --no-warn-script-location.\n",
      "  WARNING: The scripts estimator_ckpt_converter.exe, import_pb_to_tensorboard.exe, saved_model_cli.exe, tensorboard.exe, tf_upgrade_v2.exe, tflite_convert.exe, toco.exe and toco_from_protos.exe are installed in 'C:\\Users\\Sunitha\\AppData\\Roaming\\Python\\Python37\\Scripts' which is not on PATH.\n",
      "  Consider adding this directory to PATH or, if you prefer to suppress this warning, use --no-warn-script-location.\n"
     ]
    }
   ],
   "source": [
    "pip install --upgrade tensorflow --user"
   ]
  },
  {
   "cell_type": "code",
   "execution_count": 1,
   "metadata": {},
   "outputs": [
    {
     "name": "stderr",
     "output_type": "stream",
     "text": [
      "C:\\Users\\Sunitha\\AnacondaProjects\\lib\\site-packages\\pandas\\compat\\_optional.py:138: UserWarning: Pandas requires version '2.7.0' or newer of 'numexpr' (version '2.6.9' currently installed).\n",
      "  warnings.warn(msg, UserWarning)\n"
     ]
    }
   ],
   "source": [
    "# import the libraries as shown below\n",
    "\n",
    "from tensorflow.keras.layers import Input, Lambda, Dense, Flatten,Conv2D\n",
    "from tensorflow.keras.models import Model\n",
    "from tensorflow.keras.applications.vgg19 import VGG19\n",
    "from tensorflow.keras.applications.resnet50 import preprocess_input\n",
    "from tensorflow.keras.preprocessing import image\n",
    "from tensorflow.keras.preprocessing.image import ImageDataGenerator,load_img\n",
    "from tensorflow.keras.models import Sequential\n",
    "import numpy as np\n",
    "from glob import glob\n",
    "import matplotlib.pyplot as plt"
   ]
  },
  {
   "cell_type": "code",
   "execution_count": 2,
   "metadata": {},
   "outputs": [],
   "source": [
    "# re-size all the images to this\n",
    "IMAGE_SIZE = [224, 224]\n",
    "\n",
    "train_path = 'cell_images/Train'\n",
    "valid_path = 'cell_images/Test'\n"
   ]
  },
  {
   "cell_type": "code",
   "execution_count": 3,
   "metadata": {},
   "outputs": [
    {
     "name": "stdout",
     "output_type": "stream",
     "text": [
      "Downloading data from https://storage.googleapis.com/tensorflow/keras-applications/vgg19/vgg19_weights_tf_dim_ordering_tf_kernels_notop.h5\n",
      "80134624/80134624 [==============================] - 35s 0us/step\n"
     ]
    }
   ],
   "source": [
    "# Import the Vgg 16 library as shown below and add preprocessing layer to the front of VGG\n",
    "# Here we will be using imagenet weights\n",
    "\n",
    "mobilnet = VGG19(input_shape=IMAGE_SIZE + [3], weights='imagenet', include_top=False)\n",
    "\n",
    "\n"
   ]
  },
  {
   "cell_type": "code",
   "execution_count": 4,
   "metadata": {},
   "outputs": [],
   "source": [
    "# don't train existing weights\n",
    "for layer in mobilnet.layers:\n",
    "    layer.trainable = False"
   ]
  },
  {
   "cell_type": "code",
   "execution_count": 8,
   "metadata": {},
   "outputs": [],
   "source": [
    "  # useful for getting number of output classes\n",
    "folders = glob('C:\\\\Users\\\\Sunitha\\\\Desktop\\\\DS\\\\Malaria-Detection-master\\\\Dataset\\\\Dataset\\\\Train/*')"
   ]
  },
  {
   "cell_type": "code",
   "execution_count": 9,
   "metadata": {},
   "outputs": [
    {
     "data": {
      "text/plain": [
       "['C:\\\\Users\\\\Sunitha\\\\Desktop\\\\DS\\\\Malaria-Detection-master\\\\Dataset\\\\Dataset\\\\Train\\\\Parasite',\n",
       " 'C:\\\\Users\\\\Sunitha\\\\Desktop\\\\DS\\\\Malaria-Detection-master\\\\Dataset\\\\Dataset\\\\Train\\\\Uninfected']"
      ]
     },
     "execution_count": 9,
     "metadata": {},
     "output_type": "execute_result"
    }
   ],
   "source": [
    "folders"
   ]
  },
  {
   "cell_type": "code",
   "execution_count": 10,
   "metadata": {},
   "outputs": [],
   "source": [
    "# our layers - you can add more if you want\n",
    "x = Flatten()(mobilnet.output)"
   ]
  },
  {
   "cell_type": "code",
   "execution_count": 11,
   "metadata": {},
   "outputs": [],
   "source": [
    "prediction = Dense(len(folders), activation='softmax')(x)\n",
    "\n",
    "# create a model object\n",
    "model = Model(inputs=mobilnet.input, outputs=prediction)"
   ]
  },
  {
   "cell_type": "code",
   "execution_count": 12,
   "metadata": {},
   "outputs": [
    {
     "name": "stdout",
     "output_type": "stream",
     "text": [
      "Model: \"model\"\n",
      "_________________________________________________________________\n",
      " Layer (type)                Output Shape              Param #   \n",
      "=================================================================\n",
      " input_1 (InputLayer)        [(None, 224, 224, 3)]     0         \n",
      "                                                                 \n",
      " block1_conv1 (Conv2D)       (None, 224, 224, 64)      1792      \n",
      "                                                                 \n",
      " block1_conv2 (Conv2D)       (None, 224, 224, 64)      36928     \n",
      "                                                                 \n",
      " block1_pool (MaxPooling2D)  (None, 112, 112, 64)      0         \n",
      "                                                                 \n",
      " block2_conv1 (Conv2D)       (None, 112, 112, 128)     73856     \n",
      "                                                                 \n",
      " block2_conv2 (Conv2D)       (None, 112, 112, 128)     147584    \n",
      "                                                                 \n",
      " block2_pool (MaxPooling2D)  (None, 56, 56, 128)       0         \n",
      "                                                                 \n",
      " block3_conv1 (Conv2D)       (None, 56, 56, 256)       295168    \n",
      "                                                                 \n",
      " block3_conv2 (Conv2D)       (None, 56, 56, 256)       590080    \n",
      "                                                                 \n",
      " block3_conv3 (Conv2D)       (None, 56, 56, 256)       590080    \n",
      "                                                                 \n",
      " block3_conv4 (Conv2D)       (None, 56, 56, 256)       590080    \n",
      "                                                                 \n",
      " block3_pool (MaxPooling2D)  (None, 28, 28, 256)       0         \n",
      "                                                                 \n",
      " block4_conv1 (Conv2D)       (None, 28, 28, 512)       1180160   \n",
      "                                                                 \n",
      " block4_conv2 (Conv2D)       (None, 28, 28, 512)       2359808   \n",
      "                                                                 \n",
      " block4_conv3 (Conv2D)       (None, 28, 28, 512)       2359808   \n",
      "                                                                 \n",
      " block4_conv4 (Conv2D)       (None, 28, 28, 512)       2359808   \n",
      "                                                                 \n",
      " block4_pool (MaxPooling2D)  (None, 14, 14, 512)       0         \n",
      "                                                                 \n",
      " block5_conv1 (Conv2D)       (None, 14, 14, 512)       2359808   \n",
      "                                                                 \n",
      " block5_conv2 (Conv2D)       (None, 14, 14, 512)       2359808   \n",
      "                                                                 \n",
      " block5_conv3 (Conv2D)       (None, 14, 14, 512)       2359808   \n",
      "                                                                 \n",
      " block5_conv4 (Conv2D)       (None, 14, 14, 512)       2359808   \n",
      "                                                                 \n",
      " block5_pool (MaxPooling2D)  (None, 7, 7, 512)         0         \n",
      "                                                                 \n",
      " flatten (Flatten)           (None, 25088)             0         \n",
      "                                                                 \n",
      " dense (Dense)               (None, 2)                 50178     \n",
      "                                                                 \n",
      "=================================================================\n",
      "Total params: 20,074,562\n",
      "Trainable params: 50,178\n",
      "Non-trainable params: 20,024,384\n",
      "_________________________________________________________________\n"
     ]
    }
   ],
   "source": [
    "\n",
    "# view the structure of the model\n",
    "model.summary()\n"
   ]
  },
  {
   "cell_type": "code",
   "execution_count": 13,
   "metadata": {},
   "outputs": [],
   "source": [
    "from tensorflow.keras.layers import MaxPooling2D"
   ]
  },
  {
   "cell_type": "code",
   "execution_count": 14,
   "metadata": {},
   "outputs": [
    {
     "name": "stdout",
     "output_type": "stream",
     "text": [
      "Model: \"sequential\"\n",
      "_________________________________________________________________\n",
      " Layer (type)                Output Shape              Param #   \n",
      "=================================================================\n",
      " conv2d (Conv2D)             (None, 224, 224, 16)      208       \n",
      "                                                                 \n",
      " max_pooling2d (MaxPooling2D  (None, 112, 112, 16)     0         \n",
      " )                                                               \n",
      "                                                                 \n",
      " conv2d_1 (Conv2D)           (None, 112, 112, 32)      2080      \n",
      "                                                                 \n",
      " max_pooling2d_1 (MaxPooling  (None, 56, 56, 32)       0         \n",
      " 2D)                                                             \n",
      "                                                                 \n",
      " conv2d_2 (Conv2D)           (None, 56, 56, 64)        8256      \n",
      "                                                                 \n",
      " max_pooling2d_2 (MaxPooling  (None, 28, 28, 64)       0         \n",
      " 2D)                                                             \n",
      "                                                                 \n",
      " flatten_1 (Flatten)         (None, 50176)             0         \n",
      "                                                                 \n",
      " dense_1 (Dense)             (None, 500)               25088500  \n",
      "                                                                 \n",
      " dense_2 (Dense)             (None, 2)                 1002      \n",
      "                                                                 \n",
      "=================================================================\n",
      "Total params: 25,100,046\n",
      "Trainable params: 25,100,046\n",
      "Non-trainable params: 0\n",
      "_________________________________________________________________\n"
     ]
    }
   ],
   "source": [
    "### Create Model from scratch using CNN\n",
    "model=Sequential()\n",
    "model.add(Conv2D(filters=16,kernel_size=2,padding=\"same\",activation=\"relu\",input_shape=(224,224,3)))\n",
    "model.add(MaxPooling2D(pool_size=2))\n",
    "model.add(Conv2D(filters=32,kernel_size=2,padding=\"same\",activation =\"relu\"))\n",
    "model.add(MaxPooling2D(pool_size=2))\n",
    "model.add(Conv2D(filters=64,kernel_size=2,padding=\"same\",activation=\"relu\"))\n",
    "model.add(MaxPooling2D(pool_size=2))\n",
    "model.add(Flatten())\n",
    "model.add(Dense(500,activation=\"relu\"))\n",
    "model.add(Dense(2,activation=\"softmax\"))\n",
    "model.summary()"
   ]
  },
  {
   "cell_type": "code",
   "execution_count": 15,
   "metadata": {},
   "outputs": [],
   "source": [
    "# tell the model what cost and optimization method to use\n",
    "model.compile(\n",
    "  loss='categorical_crossentropy',\n",
    "  optimizer='adam',\n",
    "  metrics=['accuracy']\n",
    ")\n"
   ]
  },
  {
   "cell_type": "code",
   "execution_count": 16,
   "metadata": {},
   "outputs": [],
   "source": [
    "# Use the Image Data Generator to import the images from the dataset\n",
    "from tensorflow.keras.preprocessing.image import ImageDataGenerator\n",
    "\n",
    "train_datagen = ImageDataGenerator(rescale = 1./255,\n",
    "                                   shear_range = 0.2,\n",
    "                                   zoom_range = 0.2,\n",
    "                                   horizontal_flip = True)\n",
    "\n",
    "test_datagen = ImageDataGenerator(rescale = 1./255)"
   ]
  },
  {
   "cell_type": "code",
   "execution_count": 26,
   "metadata": {},
   "outputs": [
    {
     "name": "stdout",
     "output_type": "stream",
     "text": [
      "Found 416 images belonging to 2 classes.\n"
     ]
    }
   ],
   "source": [
    "# Make sure you provide the same target size as initialied for the image size\n",
    "training_set = train_datagen.flow_from_directory('C:\\\\Users\\\\Sunitha\\\\Desktop\\\\DS\\\\Malaria-Detection-master\\\\Dataset\\\\Dataset\\\\Train',\n",
    "                                                 target_size = (224, 224),\n",
    "                                                 batch_size = 32,\n",
    "                                                 class_mode = 'categorical')"
   ]
  },
  {
   "cell_type": "code",
   "execution_count": 27,
   "metadata": {},
   "outputs": [
    {
     "data": {
      "text/plain": [
       "<keras.preprocessing.image.DirectoryIterator at 0x216c35fba58>"
      ]
     },
     "execution_count": 27,
     "metadata": {},
     "output_type": "execute_result"
    }
   ],
   "source": [
    "training_set"
   ]
  },
  {
   "cell_type": "code",
   "execution_count": 28,
   "metadata": {},
   "outputs": [
    {
     "name": "stdout",
     "output_type": "stream",
     "text": [
      "Found 134 images belonging to 2 classes.\n"
     ]
    }
   ],
   "source": [
    "test_set = test_datagen.flow_from_directory('C:\\\\Users\\\\Sunitha\\\\Desktop\\\\DS\\\\Malaria-Detection-master\\\\Dataset\\\\Dataset\\\\Test',\n",
    "                                            target_size = (224, 224),\n",
    "                                            batch_size = 32,\n",
    "                                            class_mode = 'categorical')"
   ]
  },
  {
   "cell_type": "code",
   "execution_count": 30,
   "metadata": {
    "scrolled": true
   },
   "outputs": [
    {
     "name": "stderr",
     "output_type": "stream",
     "text": [
      "C:\\Users\\Sunitha\\AnacondaProjects\\lib\\site-packages\\ipykernel_launcher.py:8: UserWarning: `Model.fit_generator` is deprecated and will be removed in a future version. Please use `Model.fit`, which supports generators.\n",
      "  \n"
     ]
    },
    {
     "name": "stdout",
     "output_type": "stream",
     "text": [
      "Epoch 1/50\n",
      "13/13 [==============================] - 38s 2s/step - loss: 2.4174 - accuracy: 0.5312 - val_loss: 0.6554 - val_accuracy: 0.6791\n",
      "Epoch 2/50\n",
      "13/13 [==============================] - 22s 2s/step - loss: 0.6898 - accuracy: 0.5312 - val_loss: 0.6593 - val_accuracy: 0.6791\n",
      "Epoch 3/50\n",
      "13/13 [==============================] - 20s 2s/step - loss: 0.6589 - accuracy: 0.6490 - val_loss: 0.6947 - val_accuracy: 0.4627\n",
      "Epoch 4/50\n",
      "13/13 [==============================] - 20s 2s/step - loss: 0.6190 - accuracy: 0.6803 - val_loss: 0.7005 - val_accuracy: 0.5000\n",
      "Epoch 5/50\n",
      "13/13 [==============================] - 20s 2s/step - loss: 0.5809 - accuracy: 0.6659 - val_loss: 0.9677 - val_accuracy: 0.3284\n",
      "Epoch 6/50\n",
      "13/13 [==============================] - 21s 2s/step - loss: 0.5027 - accuracy: 0.7452 - val_loss: 0.8188 - val_accuracy: 0.4104\n",
      "Epoch 7/50\n",
      "13/13 [==============================] - 21s 2s/step - loss: 0.4656 - accuracy: 0.7476 - val_loss: 1.0057 - val_accuracy: 0.3731\n",
      "Epoch 8/50\n",
      "13/13 [==============================] - 22s 2s/step - loss: 0.4117 - accuracy: 0.8125 - val_loss: 0.9488 - val_accuracy: 0.4627\n",
      "Epoch 9/50\n",
      "13/13 [==============================] - 21s 2s/step - loss: 0.4063 - accuracy: 0.8077 - val_loss: 1.1960 - val_accuracy: 0.3881\n",
      "Epoch 10/50\n",
      "13/13 [==============================] - 20s 2s/step - loss: 0.4423 - accuracy: 0.7788 - val_loss: 0.7271 - val_accuracy: 0.5149\n",
      "Epoch 11/50\n",
      "13/13 [==============================] - 21s 2s/step - loss: 0.3422 - accuracy: 0.8678 - val_loss: 0.8438 - val_accuracy: 0.4403\n",
      "Epoch 12/50\n",
      "13/13 [==============================] - 25s 2s/step - loss: 0.3051 - accuracy: 0.8822 - val_loss: 0.7648 - val_accuracy: 0.5373\n",
      "Epoch 13/50\n",
      "13/13 [==============================] - 27s 2s/step - loss: 0.2870 - accuracy: 0.8702 - val_loss: 0.6160 - val_accuracy: 0.5896\n",
      "Epoch 14/50\n",
      "13/13 [==============================] - 29s 2s/step - loss: 0.2959 - accuracy: 0.8870 - val_loss: 0.9075 - val_accuracy: 0.5746\n",
      "Epoch 15/50\n",
      "13/13 [==============================] - 22s 2s/step - loss: 0.2870 - accuracy: 0.8798 - val_loss: 0.8473 - val_accuracy: 0.6045\n",
      "Epoch 16/50\n",
      "13/13 [==============================] - 21s 2s/step - loss: 0.2212 - accuracy: 0.9351 - val_loss: 0.6397 - val_accuracy: 0.7015\n",
      "Epoch 17/50\n",
      "13/13 [==============================] - 21s 2s/step - loss: 0.2550 - accuracy: 0.9062 - val_loss: 0.4527 - val_accuracy: 0.7313\n",
      "Epoch 18/50\n",
      "13/13 [==============================] - 21s 2s/step - loss: 0.1786 - accuracy: 0.9399 - val_loss: 0.5701 - val_accuracy: 0.7090\n",
      "Epoch 19/50\n",
      "13/13 [==============================] - 21s 2s/step - loss: 0.1520 - accuracy: 0.9495 - val_loss: 0.4059 - val_accuracy: 0.8209\n",
      "Epoch 20/50\n",
      "13/13 [==============================] - 21s 2s/step - loss: 0.1398 - accuracy: 0.9519 - val_loss: 0.5625 - val_accuracy: 0.7164\n",
      "Epoch 21/50\n",
      "13/13 [==============================] - 21s 2s/step - loss: 0.1398 - accuracy: 0.9591 - val_loss: 0.3502 - val_accuracy: 0.8134\n",
      "Epoch 22/50\n",
      "13/13 [==============================] - 22s 2s/step - loss: 0.1062 - accuracy: 0.9760 - val_loss: 0.5138 - val_accuracy: 0.8134\n",
      "Epoch 23/50\n",
      "13/13 [==============================] - 22s 2s/step - loss: 0.1607 - accuracy: 0.9423 - val_loss: 0.5161 - val_accuracy: 0.7687\n",
      "Epoch 24/50\n",
      "13/13 [==============================] - 23s 2s/step - loss: 0.1820 - accuracy: 0.9375 - val_loss: 0.3526 - val_accuracy: 0.8358\n",
      "Epoch 25/50\n",
      "13/13 [==============================] - 20s 2s/step - loss: 0.1297 - accuracy: 0.9615 - val_loss: 0.4639 - val_accuracy: 0.8284\n",
      "Epoch 26/50\n",
      "13/13 [==============================] - 20s 2s/step - loss: 0.1292 - accuracy: 0.9688 - val_loss: 0.3780 - val_accuracy: 0.8358\n",
      "Epoch 27/50\n",
      "13/13 [==============================] - 20s 2s/step - loss: 0.1022 - accuracy: 0.9760 - val_loss: 0.2860 - val_accuracy: 0.8731\n",
      "Epoch 28/50\n",
      "13/13 [==============================] - 22s 2s/step - loss: 0.0897 - accuracy: 0.9688 - val_loss: 0.2421 - val_accuracy: 0.9030\n",
      "Epoch 29/50\n",
      "13/13 [==============================] - 21s 2s/step - loss: 0.1101 - accuracy: 0.9760 - val_loss: 0.5454 - val_accuracy: 0.8209\n",
      "Epoch 30/50\n",
      "13/13 [==============================] - 21s 2s/step - loss: 0.0922 - accuracy: 0.9736 - val_loss: 0.2352 - val_accuracy: 0.8881\n",
      "Epoch 31/50\n",
      "13/13 [==============================] - 22s 2s/step - loss: 0.0869 - accuracy: 0.9712 - val_loss: 0.2899 - val_accuracy: 0.8657\n",
      "Epoch 32/50\n",
      "13/13 [==============================] - 21s 2s/step - loss: 0.0935 - accuracy: 0.9712 - val_loss: 0.2142 - val_accuracy: 0.9104\n",
      "Epoch 33/50\n",
      "13/13 [==============================] - 22s 2s/step - loss: 0.0877 - accuracy: 0.9736 - val_loss: 0.3852 - val_accuracy: 0.8433\n",
      "Epoch 34/50\n",
      "13/13 [==============================] - 23s 2s/step - loss: 0.0712 - accuracy: 0.9784 - val_loss: 0.2314 - val_accuracy: 0.8881\n",
      "Epoch 35/50\n",
      "13/13 [==============================] - 22s 2s/step - loss: 0.0858 - accuracy: 0.9784 - val_loss: 0.2050 - val_accuracy: 0.9104\n",
      "Epoch 36/50\n",
      "13/13 [==============================] - 23s 2s/step - loss: 0.0760 - accuracy: 0.9832 - val_loss: 0.3214 - val_accuracy: 0.8507\n",
      "Epoch 37/50\n",
      "13/13 [==============================] - 22s 2s/step - loss: 0.0584 - accuracy: 0.9808 - val_loss: 0.2058 - val_accuracy: 0.9030\n",
      "Epoch 38/50\n",
      "13/13 [==============================] - 21s 2s/step - loss: 0.0630 - accuracy: 0.9880 - val_loss: 0.4942 - val_accuracy: 0.8358\n",
      "Epoch 39/50\n",
      "13/13 [==============================] - 22s 2s/step - loss: 0.0677 - accuracy: 0.9760 - val_loss: 0.1845 - val_accuracy: 0.9328\n",
      "Epoch 40/50\n",
      "13/13 [==============================] - 22s 2s/step - loss: 0.0743 - accuracy: 0.9832 - val_loss: 0.4335 - val_accuracy: 0.8433\n",
      "Epoch 41/50\n",
      "13/13 [==============================] - 21s 2s/step - loss: 0.0437 - accuracy: 0.9880 - val_loss: 0.1882 - val_accuracy: 0.9104\n",
      "Epoch 42/50\n",
      "13/13 [==============================] - 20s 2s/step - loss: 0.0489 - accuracy: 0.9880 - val_loss: 0.2545 - val_accuracy: 0.8881\n",
      "Epoch 43/50\n",
      "13/13 [==============================] - 20s 2s/step - loss: 0.0431 - accuracy: 0.9904 - val_loss: 0.2515 - val_accuracy: 0.8881\n",
      "Epoch 44/50\n",
      "13/13 [==============================] - 21s 2s/step - loss: 0.0622 - accuracy: 0.9856 - val_loss: 0.2421 - val_accuracy: 0.8881\n",
      "Epoch 45/50\n",
      "13/13 [==============================] - 21s 2s/step - loss: 0.0315 - accuracy: 0.9952 - val_loss: 0.3280 - val_accuracy: 0.8806\n",
      "Epoch 46/50\n",
      "13/13 [==============================] - 20s 2s/step - loss: 0.0457 - accuracy: 0.9856 - val_loss: 0.3038 - val_accuracy: 0.8731\n",
      "Epoch 47/50\n",
      "13/13 [==============================] - 20s 2s/step - loss: 0.0501 - accuracy: 0.9880 - val_loss: 0.1983 - val_accuracy: 0.9179\n",
      "Epoch 48/50\n",
      "13/13 [==============================] - 20s 2s/step - loss: 0.0321 - accuracy: 0.9952 - val_loss: 0.2564 - val_accuracy: 0.8955\n",
      "Epoch 49/50\n",
      "13/13 [==============================] - 21s 2s/step - loss: 0.0583 - accuracy: 0.9928 - val_loss: 0.2589 - val_accuracy: 0.9030\n",
      "Epoch 50/50\n",
      "13/13 [==============================] - 21s 2s/step - loss: 0.0495 - accuracy: 0.9808 - val_loss: 0.2458 - val_accuracy: 0.8955\n"
     ]
    }
   ],
   "source": [
    "# fit the model\n",
    "# Run the cell. It will take some time to execute\n",
    "r = model.fit_generator(\n",
    "  training_set,\n",
    "  validation_data=test_set,\n",
    "  epochs=50,\n",
    "  steps_per_epoch=len(training_set),\n",
    "  validation_steps=len(test_set)\n",
    ")"
   ]
  },
  {
   "cell_type": "code",
   "execution_count": null,
   "metadata": {},
   "outputs": [],
   "source": []
  },
  {
   "cell_type": "code",
   "execution_count": 31,
   "metadata": {},
   "outputs": [
    {
     "data": {
      "image/png": "[encoded data removed]",
      "text/plain": [
       "<Figure size 432x288 with 1 Axes>"
      ]
     },
     "metadata": {
      "needs_background": "light"
     },
     "output_type": "display_data"
    },
    {
     "data": {
      "image/png": "[encoded data removed]",
      "text/plain": [
       "<Figure size 432x288 with 1 Axes>"
      ]
     },
     "metadata": {
      "needs_background": "light"
     },
     "output_type": "display_data"
    },
    {
     "data": {
      "text/plain": [
       "<Figure size 432x288 with 0 Axes>"
      ]
     },
     "metadata": {},
     "output_type": "display_data"
    }
   ],
   "source": [
    "# plot the loss\n",
    "plt.plot(r.history['loss'], label='train loss')\n",
    "plt.plot(r.history['val_loss'], label='val loss')\n",
    "plt.legend()\n",
    "plt.show()\n",
    "plt.savefig('LossVal_loss')\n",
    "\n",
    "# plot the accuracy\n",
    "plt.plot(r.history['accuracy'], label='train acc')\n",
    "plt.plot(r.history['val_accuracy'], label='val acc')\n",
    "plt.legend()\n",
    "plt.show()\n",
    "plt.savefig('AccVal_acc')"
   ]
  },
  {
   "cell_type": "code",
   "execution_count": 32,
   "metadata": {},
   "outputs": [],
   "source": [
    "# save it as a h5 file\n",
    "\n",
    "\n",
    "from tensorflow.keras.models import load_model\n",
    "\n",
    "model.save('model_vgg19.h5')"
   ]
  },
  {
   "cell_type": "code",
   "execution_count": null,
   "metadata": {},
   "outputs": [],
   "source": []
  },
  {
   "cell_type": "code",
   "execution_count": 33,
   "metadata": {},
   "outputs": [
    {
     "name": "stdout",
     "output_type": "stream",
     "text": [
      "5/5 [==============================] - 2s 251ms/step\n"
     ]
    }
   ],
   "source": [
    "\n",
    "y_pred = model.predict(test_set)\n"
   ]
  },
  {
   "cell_type": "code",
   "execution_count": 34,
   "metadata": {},
   "outputs": [
    {
     "data": {
      "text/plain": [
       "array([[8.15148234e-01, 1.84851781e-01],\n",
       "       [9.99754727e-01, 2.45258154e-04],\n",
       "       [1.08524852e-01, 8.91475141e-01],\n",
       "       [2.16589391e-01, 7.83410609e-01],\n",
       "       [9.98490095e-01, 1.50989951e-03],\n",
       "       [3.34142804e-01, 6.65857196e-01],\n",
       "       [1.31487325e-01, 8.68512690e-01],\n",
       "       [9.99834061e-01, 1.65939869e-04],\n",
       "       [1.19768977e-01, 8.80231023e-01],\n",
       "       [3.14618617e-01, 6.85381413e-01],\n",
       "       [9.99996305e-01, 3.68665951e-06],\n",
       "       [6.51874393e-02, 9.34812605e-01],\n",
       "       [9.99376714e-01, 6.23333966e-04],\n",
       "       [9.99969006e-01, 3.09616407e-05],\n",
       "       [2.42736079e-02, 9.75726426e-01],\n",
       "       [2.95984317e-02, 9.70401525e-01],\n",
       "       [8.98049325e-02, 9.10195053e-01],\n",
       "       [7.38972202e-02, 9.26102817e-01],\n",
       "       [9.99998927e-01, 1.04308492e-06],\n",
       "       [7.29903817e-01, 2.70096183e-01],\n",
       "       [9.99121487e-01, 8.78510647e-04],\n",
       "       [9.99265492e-01, 7.34535803e-04],\n",
       "       [1.32009089e-01, 8.67990911e-01],\n",
       "       [1.94394633e-01, 8.05605352e-01],\n",
       "       [9.98585105e-01, 1.41486991e-03],\n",
       "       [2.44995818e-01, 7.55004168e-01],\n",
       "       [1.88856144e-02, 9.81114328e-01],\n",
       "       [1.00000000e+00, 9.76699402e-19],\n",
       "       [9.99984980e-01, 1.49818961e-05],\n",
       "       [2.74319082e-01, 7.25680828e-01],\n",
       "       [9.99979138e-01, 2.08442452e-05],\n",
       "       [1.89978763e-01, 8.10021222e-01],\n",
       "       [1.00000000e+00, 2.47222298e-10],\n",
       "       [1.00000000e+00, 2.53003424e-10],\n",
       "       [1.00000000e+00, 4.93905806e-13],\n",
       "       [9.99999881e-01, 6.81332395e-08],\n",
       "       [9.99959230e-01, 4.07428415e-05],\n",
       "       [1.62100419e-02, 9.83789980e-01],\n",
       "       [4.34448957e-01, 5.65551043e-01],\n",
       "       [1.73444986e-01, 8.26554954e-01],\n",
       "       [1.07712075e-02, 9.89228845e-01],\n",
       "       [8.29605877e-01, 1.70394167e-01],\n",
       "       [4.97469634e-01, 5.02530336e-01],\n",
       "       [9.97310638e-01, 2.68939068e-03],\n",
       "       [6.81002498e-01, 3.18997532e-01],\n",
       "       [1.82590276e-01, 8.17409694e-01],\n",
       "       [9.99999285e-01, 7.06506057e-07],\n",
       "       [1.96793944e-01, 8.03206086e-01],\n",
       "       [1.14939241e-02, 9.88506079e-01],\n",
       "       [9.99768198e-01, 2.31800441e-04],\n",
       "       [2.69162133e-02, 9.73083794e-01],\n",
       "       [9.98796940e-01, 1.20300404e-03],\n",
       "       [9.99999642e-01, 3.67466555e-07],\n",
       "       [9.99563992e-01, 4.36021306e-04],\n",
       "       [9.97511029e-01, 2.48897076e-03],\n",
       "       [9.99510646e-01, 4.89321130e-04],\n",
       "       [1.00000000e+00, 2.05294581e-09],\n",
       "       [9.99500871e-01, 4.99123591e-04],\n",
       "       [9.99864101e-01, 1.35885959e-04],\n",
       "       [4.91511300e-02, 9.50848818e-01],\n",
       "       [9.99995232e-01, 4.74488297e-06],\n",
       "       [9.94544983e-01, 5.45500452e-03],\n",
       "       [2.40418032e-01, 7.59581923e-01],\n",
       "       [8.92921537e-02, 9.10707831e-01],\n",
       "       [1.00000000e+00, 2.23820629e-09],\n",
       "       [7.68159479e-02, 9.23184037e-01],\n",
       "       [9.99493837e-01, 5.06173761e-04],\n",
       "       [1.00000000e+00, 1.37669360e-08],\n",
       "       [8.89708638e-01, 1.10291347e-01],\n",
       "       [1.00000000e+00, 3.01181258e-09],\n",
       "       [9.99361217e-01, 6.38833677e-04],\n",
       "       [8.64523277e-03, 9.91354764e-01],\n",
       "       [1.13346040e-01, 8.86653900e-01],\n",
       "       [9.99614120e-01, 3.85819672e-04],\n",
       "       [9.99200284e-01, 7.99686881e-04],\n",
       "       [9.99998450e-01, 1.57645923e-06],\n",
       "       [9.95226145e-01, 4.77382168e-03],\n",
       "       [9.99998212e-01, 1.74269746e-06],\n",
       "       [2.14964092e-01, 7.85035908e-01],\n",
       "       [7.10708976e-01, 2.89291084e-01],\n",
       "       [2.31599286e-01, 7.68400669e-01],\n",
       "       [2.87421290e-02, 9.71257925e-01],\n",
       "       [9.99999881e-01, 1.33167958e-07],\n",
       "       [9.99989152e-01, 1.08231634e-05],\n",
       "       [8.64373241e-03, 9.91356254e-01],\n",
       "       [9.99262035e-01, 7.37953698e-04],\n",
       "       [3.41388375e-01, 6.58611655e-01],\n",
       "       [2.65674815e-02, 9.73432481e-01],\n",
       "       [8.96263719e-01, 1.03736326e-01],\n",
       "       [9.99883533e-01, 1.16422038e-04],\n",
       "       [9.98993933e-01, 1.00610766e-03],\n",
       "       [8.91278833e-02, 9.10872161e-01],\n",
       "       [1.00000000e+00, 8.11916062e-15],\n",
       "       [2.21736252e-01, 7.78263807e-01],\n",
       "       [1.84653044e-01, 8.15347016e-01],\n",
       "       [9.99987006e-01, 1.29798182e-05],\n",
       "       [3.15296799e-01, 6.84703171e-01],\n",
       "       [9.99999285e-01, 7.55514407e-07],\n",
       "       [9.99992371e-01, 7.60577996e-06],\n",
       "       [1.00000000e+00, 3.68439529e-10],\n",
       "       [9.99923348e-01, 7.65863879e-05],\n",
       "       [9.39260647e-02, 9.06073928e-01],\n",
       "       [2.30262540e-02, 9.76973712e-01],\n",
       "       [4.87973034e-01, 5.12026966e-01],\n",
       "       [9.99999404e-01, 5.75882837e-07],\n",
       "       [9.99977708e-01, 2.22407307e-05],\n",
       "       [3.03586982e-02, 9.69641268e-01],\n",
       "       [1.88825969e-02, 9.81117427e-01],\n",
       "       [9.99999046e-01, 9.36486060e-07],\n",
       "       [9.05260220e-02, 9.09474015e-01],\n",
       "       [4.94184112e-03, 9.95058179e-01],\n",
       "       [9.76808310e-01, 2.31917277e-02],\n",
       "       [9.99750078e-01, 2.49952631e-04],\n",
       "       [9.99999046e-01, 1.00295017e-06],\n",
       "       [1.46517470e-01, 8.53482485e-01],\n",
       "       [1.00000000e+00, 1.70299730e-09],\n",
       "       [1.11256666e-01, 8.88743281e-01],\n",
       "       [1.01526175e-02, 9.89847362e-01],\n",
       "       [6.01233281e-02, 9.39876676e-01],\n",
       "       [9.99941349e-01, 5.86341375e-05],\n",
       "       [9.99999046e-01, 9.44998249e-07],\n",
       "       [2.33133398e-02, 9.76686597e-01],\n",
       "       [9.99388218e-01, 6.11791736e-04],\n",
       "       [9.99995112e-01, 4.84482962e-06],\n",
       "       [1.00000000e+00, 5.15553086e-11],\n",
       "       [9.99998450e-01, 1.54692043e-06],\n",
       "       [6.75207078e-02, 9.32479322e-01],\n",
       "       [9.99605834e-01, 3.94198374e-04],\n",
       "       [9.99991536e-01, 8.44835813e-06],\n",
       "       [9.99887824e-01, 1.12208429e-04],\n",
       "       [4.77405697e-01, 5.22594273e-01],\n",
       "       [8.22275206e-02, 9.17772412e-01],\n",
       "       [9.99443233e-01, 5.56696032e-04],\n",
       "       [9.99475658e-01, 5.24361385e-04]], dtype=float32)"
      ]
     },
     "execution_count": 34,
     "metadata": {},
     "output_type": "execute_result"
    }
   ],
   "source": [
    "y_pred"
   ]
  },
  {
   "cell_type": "code",
   "execution_count": 35,
   "metadata": {},
   "outputs": [],
   "source": [
    "import numpy as np\n",
    "y_pred = np.argmax(y_pred, axis=1)"
   ]
  },
  {
   "cell_type": "code",
   "execution_count": 36,
   "metadata": {},
   "outputs": [
    {
     "data": {
      "text/plain": [
       "array([0, 0, 1, 1, 0, 1, 1, 0, 1, 1, 0, 1, 0, 0, 1, 1, 1, 1, 0, 0, 0, 0,\n",
       "       1, 1, 0, 1, 1, 0, 0, 1, 0, 1, 0, 0, 0, 0, 0, 1, 1, 1, 1, 0, 1, 0,\n",
       "       0, 1, 0, 1, 1, 0, 1, 0, 0, 0, 0, 0, 0, 0, 0, 1, 0, 0, 1, 1, 0, 1,\n",
       "       0, 0, 0, 0, 0, 1, 1, 0, 0, 0, 0, 0, 1, 0, 1, 1, 0, 0, 1, 0, 1, 1,\n",
       "       0, 0, 0, 1, 0, 1, 1, 0, 1, 0, 0, 0, 0, 1, 1, 1, 0, 0, 1, 1, 0, 1,\n",
       "       1, 0, 0, 0, 1, 0, 1, 1, 1, 0, 0, 1, 0, 0, 0, 0, 1, 0, 0, 0, 1, 1,\n",
       "       0, 0], dtype=int64)"
      ]
     },
     "execution_count": 36,
     "metadata": {},
     "output_type": "execute_result"
    }
   ],
   "source": [
    "y_pred"
   ]
  },
  {
   "cell_type": "code",
   "execution_count": null,
   "metadata": {},
   "outputs": [],
   "source": []
  },
  {
   "cell_type": "code",
   "execution_count": 37,
   "metadata": {},
   "outputs": [],
   "source": [
    "from tensorflow.keras.models import load_model\n",
    "from tensorflow.keras.preprocessing import image"
   ]
  },
  {
   "cell_type": "code",
   "execution_count": 38,
   "metadata": {},
   "outputs": [],
   "source": [
    "model=load_model('model_vgg19.h5')"
   ]
  },
  {
   "cell_type": "code",
   "execution_count": null,
   "metadata": {},
   "outputs": [],
   "source": []
  },
  {
   "cell_type": "code",
   "execution_count": 39,
   "metadata": {},
   "outputs": [],
   "source": [
    "img=image.load_img('C:\\\\Users\\\\Sunitha\\\\Desktop\\\\DS\\\\Malaria-Detection-master\\\\Dataset\\\\Dataset\\\\Test\\\\Uninfected\\\\2.png',target_size=(224,224))\n",
    "\n"
   ]
  },
  {
   "cell_type": "code",
   "execution_count": 40,
   "metadata": {},
   "outputs": [
    {
     "data": {
      "text/plain": [
       "array([[[0., 0., 0.],\n",
       "        [0., 0., 0.],\n",
       "        [0., 0., 0.],\n",
       "        ...,\n",
       "        [0., 0., 0.],\n",
       "        [0., 0., 0.],\n",
       "        [0., 0., 0.]],\n",
       "\n",
       "       [[0., 0., 0.],\n",
       "        [0., 0., 0.],\n",
       "        [0., 0., 0.],\n",
       "        ...,\n",
       "        [0., 0., 0.],\n",
       "        [0., 0., 0.],\n",
       "        [0., 0., 0.]],\n",
       "\n",
       "       [[0., 0., 0.],\n",
       "        [0., 0., 0.],\n",
       "        [0., 0., 0.],\n",
       "        ...,\n",
       "        [0., 0., 0.],\n",
       "        [0., 0., 0.],\n",
       "        [0., 0., 0.]],\n",
       "\n",
       "       ...,\n",
       "\n",
       "       [[0., 0., 0.],\n",
       "        [0., 0., 0.],\n",
       "        [0., 0., 0.],\n",
       "        ...,\n",
       "        [0., 0., 0.],\n",
       "        [0., 0., 0.],\n",
       "        [0., 0., 0.]],\n",
       "\n",
       "       [[0., 0., 0.],\n",
       "        [0., 0., 0.],\n",
       "        [0., 0., 0.],\n",
       "        ...,\n",
       "        [0., 0., 0.],\n",
       "        [0., 0., 0.],\n",
       "        [0., 0., 0.]],\n",
       "\n",
       "       [[0., 0., 0.],\n",
       "        [0., 0., 0.],\n",
       "        [0., 0., 0.],\n",
       "        ...,\n",
       "        [0., 0., 0.],\n",
       "        [0., 0., 0.],\n",
       "        [0., 0., 0.]]], dtype=float32)"
      ]
     },
     "execution_count": 40,
     "metadata": {},
     "output_type": "execute_result"
    }
   ],
   "source": [
    "x=image.img_to_array(img)\n",
    "x"
   ]
  },
  {
   "cell_type": "code",
   "execution_count": 41,
   "metadata": {},
   "outputs": [
    {
     "data": {
      "text/plain": [
       "(224, 224, 3)"
      ]
     },
     "execution_count": 41,
     "metadata": {},
     "output_type": "execute_result"
    }
   ],
   "source": [
    "x.shape"
   ]
  },
  {
   "cell_type": "code",
   "execution_count": 42,
   "metadata": {},
   "outputs": [],
   "source": [
    "x=x/255"
   ]
  },
  {
   "cell_type": "code",
   "execution_count": 43,
   "metadata": {},
   "outputs": [
    {
     "data": {
      "text/plain": [
       "(1, 224, 224, 3)"
      ]
     },
     "execution_count": 43,
     "metadata": {},
     "output_type": "execute_result"
    }
   ],
   "source": [
    "x=np.expand_dims(x,axis=0)\n",
    "img_data=preprocess_input(x)\n",
    "img_data.shape"
   ]
  },
  {
   "cell_type": "code",
   "execution_count": 44,
   "metadata": {},
   "outputs": [
    {
     "name": "stdout",
     "output_type": "stream",
     "text": [
      "1/1 [==============================] - 1s 653ms/step\n"
     ]
    },
    {
     "data": {
      "text/plain": [
       "array([[1., 0.]], dtype=float32)"
      ]
     },
     "execution_count": 44,
     "metadata": {},
     "output_type": "execute_result"
    }
   ],
   "source": [
    "model.predict(img_data)"
   ]
  },
  {
   "cell_type": "code",
   "execution_count": 45,
   "metadata": {},
   "outputs": [
    {
     "name": "stdout",
     "output_type": "stream",
     "text": [
      "1/1 [==============================] - 0s 105ms/step\n"
     ]
    }
   ],
   "source": [
    "a=np.argmax(model.predict(img_data), axis=1)"
   ]
  },
  {
   "cell_type": "code",
   "execution_count": 46,
   "metadata": {},
   "outputs": [
    {
     "name": "stdout",
     "output_type": "stream",
     "text": [
      "Infected\n"
     ]
    }
   ],
   "source": [
    "if(a==1):\n",
    "    print(\"Uninfected\")\n",
    "else:\n",
    "    print(\"Infected\")"
   ]
  },
  {
   "cell_type": "code",
   "execution_count": null,
   "metadata": {},
   "outputs": [],
   "source": []
  },
  {
   "cell_type": "code",
   "execution_count": null,
   "metadata": {},
   "outputs": [],
   "source": []
  }
 ],
 "metadata": {
  "kernelspec": {
   "display_name": "Python 3",
   "language": "python",
   "name": "python3"
  },
  "language_info": {
   "codemirror_mode": {
    "name": "ipython",
    "version": 3
   },
   "file_extension": ".py",
   "mimetype": "text/x-python",
   "name": "python",
   "nbconvert_exporter": "python",
   "pygments_lexer": "ipython3",
   "version": "3.7.3"
  }
 },
 "nbformat": 4,
 "nbformat_minor": 2
}
